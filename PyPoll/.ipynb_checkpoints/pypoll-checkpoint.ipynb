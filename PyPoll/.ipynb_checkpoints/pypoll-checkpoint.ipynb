{
 "cells": [
  {
   "cell_type": "code",
   "execution_count": 108,
   "id": "a22a654b",
   "metadata": {},
   "outputs": [],
   "source": [
    "import os\n",
    "import pandas as pd"
   ]
  },
  {
   "cell_type": "code",
   "execution_count": 109,
   "id": "8b3340ae",
   "metadata": {},
   "outputs": [],
   "source": [
    "\n",
    "#files to load\n",
    "\n",
    "file_in = os.path.join(\".\", \"Resources\", \"election_data.csv\")\n",
    "\n",
    "df_election = pd.read_csv(file_in)\n"
   ]
  },
  {
   "cell_type": "code",
   "execution_count": 110,
   "id": "43bb30c5",
   "metadata": {},
   "outputs": [
    {
     "name": "stdout",
     "output_type": "stream",
     "text": [
      "Diana DeGette\n"
     ]
    }
   ],
   "source": [
    "winning_candidate = df_election[candidate_column].mode()[0]\n",
    "print(winning_candidate)"
   ]
  },
  {
   "cell_type": "code",
   "execution_count": 111,
   "id": "4c1a7110",
   "metadata": {},
   "outputs": [
    {
     "name": "stdout",
     "output_type": "stream",
     "text": [
      "Election Results\n",
      "\n",
      "--------------------------\n",
      "\n",
      "Total Votes: 369711\n",
      "\n",
      "--------------------------\n",
      "\n",
      "Diana DeGette: 73.812% (272892)\n",
      " \n",
      "Charles Casper Stockham: 23.049% (85213)\n",
      " \n",
      "Raymon Anthony Doane: 3.139% (11606)\n",
      " \n",
      "--------------------------\n",
      "\n",
      "Winner: Diana DeGette\n",
      "\n",
      "--------------------------\n",
      "\n",
      "\n"
     ]
    }
   ],
   "source": [
    "#Display Results in Terminal\n",
    "\n",
    "final_outputs = (\n",
    "    f\"Election Results\\n\\n\"\n",
    "    f\"--------------------------\\n\\n\"\n",
    "    \n",
    "    f\"Total Votes: {total_votes}\\n\\n\"\n",
    "    f\"--------------------------\\n\")\n",
    "\n",
    "print(final_outputs)\n",
    "for value, percentage in value_counts_percent.items():\n",
    "    count = value_counts[value]\n",
    "    print(f\"{value}: {percentage:.3f}% ({count})\\n \")\n",
    "    \n",
    "print(f\"--------------------------\\n\")\n",
    "print (f\"Winner: {winning_candidate}\\n\")\n",
    "print(f\"--------------------------\\n\\n\")\n",
    "\n"
   ]
  },
  {
   "cell_type": "code",
   "execution_count": 106,
   "id": "e9cc5d24",
   "metadata": {},
   "outputs": [],
   "source": [
    "#Send data to txt file:\n",
    "\n",
    "with open('poll_analysis.txt', 'w') as f:\n",
    "    print(final_outputs, file=f)\n",
    "    #print(final_outputs)\n",
    "    for value, percentage in value_counts_percent.items():\n",
    "        count = value_counts[value]\n",
    "        #print(f\"Value: {value}, Count: {count}, Percentage: {percentage:.2f}%\")\n",
    "        print(f\"{value}: {percentage:.3f}% ({count})\\n \", file=f)\n",
    "    print(f\"--------------------------\\n\", file=f)\n",
    "    print (f\"Winner: {winning_candidate}\\n\", file=f)\n",
    "    print(f\"--------------------------\\n\\n\", file=f)\n",
    "   "
   ]
  },
  {
   "cell_type": "code",
   "execution_count": null,
   "id": "7c468ba0",
   "metadata": {},
   "outputs": [],
   "source": []
  }
 ],
 "metadata": {
  "kernelspec": {
   "display_name": "Python 3 (ipykernel)",
   "language": "python",
   "name": "python3"
  },
  "language_info": {
   "codemirror_mode": {
    "name": "ipython",
    "version": 3
   },
   "file_extension": ".py",
   "mimetype": "text/x-python",
   "name": "python",
   "nbconvert_exporter": "python",
   "pygments_lexer": "ipython3",
   "version": "3.7.11"
  }
 },
 "nbformat": 4,
 "nbformat_minor": 5
}
