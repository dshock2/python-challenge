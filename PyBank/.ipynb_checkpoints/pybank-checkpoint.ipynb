{
 "cells": [
  {
   "cell_type": "code",
   "execution_count": 79,
   "id": "9e2ad879",
   "metadata": {},
   "outputs": [],
   "source": [
    "#import libriaries\n",
    "import os\n",
    "import pandas as pd\n",
    "\n",
    "\n",
    "#files to load\n",
    "\n",
    "file_in = os.path.join(\".\", \"Resources\", \"budget_data.csv\")\n",
    "      "
   ]
  },
  {
   "cell_type": "code",
   "execution_count": 80,
   "id": "fe9d7ec5",
   "metadata": {},
   "outputs": [],
   "source": [
    "#Put in dataframe and figure out total months pt1\n",
    "df_budget = pd.read_csv(file_in)\n"
   ]
  },
  {
   "cell_type": "code",
   "execution_count": 81,
   "id": "ac372614",
   "metadata": {},
   "outputs": [],
   "source": [
    "#Put in dataframe and figure out Financial sheet\n",
    "column_date = 'Date'\n",
    "total_months = df_budget[column_date].count()\n",
    "\n",
    "\n",
    "#Sum of Profit/Loss column\n",
    "column_profit_loss = 'Profit/Losses'\n",
    "total_sum = df_budget[column_profit_loss].sum()\n",
    "\n",
    "\n",
    "\n",
    "#Avg Change\n",
    "avg_change = df_budget[column_profit_loss].diff().mean()\n",
    "\n",
    "\n",
    "\n",
    "#Greatest Increase\n",
    "greatest_increase = df_budget[column_profit_loss].diff().max()\n",
    "greatest_increase_match = df_budget[column_profit_loss].diff().idxmax()\n",
    "match_increase_date = df_budget.loc[greatest_increase_match, column_date]\n",
    "\n",
    "\n",
    "#Greatest Decrease\n",
    "greatest_decrease = df_budget[column_profit_loss].diff().min()\n",
    "greatest_decrease_match = df_budget[column_profit_loss].diff().idxmin()\n",
    "match_decrease_date = df_budget.loc[greatest_decrease_match, column_date]\n",
    "\n",
    "\n"
   ]
  },
  {
   "cell_type": "code",
   "execution_count": 82,
   "id": "8f998506",
   "metadata": {},
   "outputs": [],
   "source": [
    "final_outputs = (\n",
    "    f\"Financial Analysis\\n\"\n",
    "    f\"--------------------------\\n\"\n",
    "        \n",
    "    f\"Total Months: {total_months}\\n\"\n",
    "    f\"Total:  ${total_sum}\\n\"\n",
    "    f\"Average Change:  ${avg_change: .2f}\\n\"\n",
    "    f\"Greates Increase in Profits:  {match_increase_date}  (${greatest_increase: .0f})\\n\"\n",
    "    f\"Greates Decrease in Profits: {match_decrease_date} (${greatest_decrease: .0f})\\n\"\n",
    "\n",
    ")\n",
    "\n"
   ]
  },
  {
   "cell_type": "code",
   "execution_count": 83,
   "id": "33b04583",
   "metadata": {},
   "outputs": [
    {
     "name": "stdout",
     "output_type": "stream",
     "text": [
      "Financial Analysis\n",
      "--------------------------\n",
      "Total Months: 86\n",
      "Total:  $22564198\n",
      "Average Change:  $-8311.11\n",
      "Greates Increase in Profits:  Aug-16  ($ 1862002)\n",
      "Greates Decrease in Profits: Feb-14 ($-1825558)\n",
      "\n"
     ]
    }
   ],
   "source": [
    "#Print Final Output to Screen:\n",
    "\n",
    "print (final_outputs)"
   ]
  },
  {
   "cell_type": "code",
   "execution_count": 85,
   "id": "7ce5ab44",
   "metadata": {},
   "outputs": [],
   "source": [
    "#Send data to txt file:\n",
    "\n",
    "with open('budget_analysis.txt', 'w') as f:\n",
    "    print(final_outputs, file=f)\n",
    "   \n"
   ]
  },
  {
   "cell_type": "code",
   "execution_count": null,
   "id": "af1a6bcb",
   "metadata": {},
   "outputs": [],
   "source": []
  }
 ],
 "metadata": {
  "kernelspec": {
   "display_name": "Python 3 (ipykernel)",
   "language": "python",
   "name": "python3"
  },
  "language_info": {
   "codemirror_mode": {
    "name": "ipython",
    "version": 3
   },
   "file_extension": ".py",
   "mimetype": "text/x-python",
   "name": "python",
   "nbconvert_exporter": "python",
   "pygments_lexer": "ipython3",
   "version": "3.7.11"
  }
 },
 "nbformat": 4,
 "nbformat_minor": 5
}
